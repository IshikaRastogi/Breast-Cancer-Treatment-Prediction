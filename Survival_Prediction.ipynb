{
 "cells": [
  {
   "cell_type": "code",
   "execution_count": 1,
   "id": "23a8988a",
   "metadata": {},
   "outputs": [],
   "source": [
    "import numpy as np\n",
    "import tensorflow as tf\n",
    "from ipynb.fs.full.parse import Crawler\n",
    "import sys\n",
    "import numpy as np\n",
    "import pandas as pd\n",
    "import warnings\n",
    "warnings.filterwarnings(\"ignore\", category=UserWarning)\n",
    "\n",
    "TEST_SIZE = 231\n",
    "FEATURES = 24\n",
    "OUTPUTS = 1\n",
    "\n",
    "if __name__ == \"__main__\":\n",
    "    n_input = 24 # MNIST data input (img shape: 28*28)\n",
    "    n_treatments = 1 # MNIST total classes (0-9 digits)\n",
    "    tf.compat.v1.disable_eager_execution()\n",
    "    x = tf.compat.v1.placeholder(\"float\", [None, n_input])\n",
    "    y = tf.compat.v1.placeholder(\"float\", [None, n_treatments])"
   ]
  },
  {
   "cell_type": "code",
   "execution_count": 2,
   "id": "34bf399c",
   "metadata": {},
   "outputs": [],
   "source": [
    "    objCrawler = Crawler(\"FinalCancer_Data.csv\")\n",
    "    data = objCrawler.p_input()"
   ]
  },
  {
   "cell_type": "code",
   "execution_count": 3,
   "id": "39ea91eb",
   "metadata": {},
   "outputs": [],
   "source": [
    "    max0 = np.amax(data[:, np.r_[0]])\n",
    "    max1 = np.amax(data[:, np.r_[1]])\n",
    "    max5 = np.amax(data[:, np.r_[5]])\n",
    "    max6 = np.amax(data[:, np.r_[6]])\n",
    "    max7 = np.amax(data[:, np.r_[7]])\n",
    "    max8 = np.amax(data[:, np.r_[8]])\n",
    "    max9 = np.amax(data[:, np.r_[9]])\n",
    "    max10 = np.amax(data[:, np.r_[10]])\n",
    "    max11 = np.amax(data[:, np.r_[11]])\n",
    "\n",
    "    for dataElements in data:\n",
    "        dataElements[0] = dataElements[0]/max0\n",
    "        dataElements[1] = dataElements[1]/max1\n",
    "        dataElements[5] = dataElements[5]/max5\n",
    "        dataElements[6] = dataElements[6]/max6\n",
    "        dataElements[7] = dataElements[7]/max7\n",
    "        dataElements[8] = dataElements[8]/max8\n",
    "        dataElements[9] = dataElements[9]/max9\n",
    "        dataElements[10] = dataElements[10]/max10\n",
    "        dataElements[11] = dataElements[11]/max11"
   ]
  },
  {
   "cell_type": "code",
   "execution_count": 4,
   "id": "fd6257f3",
   "metadata": {},
   "outputs": [],
   "source": [
    "    testInput = data[:TEST_SIZE,:FEATURES]\n",
    "    testOutput = data[:TEST_SIZE, -OUTPUTS:]\n",
    "\n",
    "    trainInput = data[TEST_SIZE:, :FEATURES]\n",
    "    trainOutput = data[TEST_SIZE:, -OUTPUTS:]\n",
    "\n",
    "    train_size = len(trainInput)"
   ]
  },
  {
   "cell_type": "code",
   "execution_count": 5,
   "id": "c3a4c5de",
   "metadata": {},
   "outputs": [
    {
     "name": "stdout",
     "output_type": "stream",
     "text": [
      "Train on 1587 samples\n",
      "Epoch 1/100\n",
      "1587/1587 [==============================] - 1s 540us/sample - loss: 0.6439 - accuracy: 0.6597\n",
      "Epoch 2/100\n",
      "1587/1587 [==============================] - 1s 397us/sample - loss: 0.6254 - accuracy: 0.6635\n",
      "Epoch 3/100\n",
      "1587/1587 [==============================] - 1s 415us/sample - loss: 0.6227 - accuracy: 0.6635\n",
      "Epoch 4/100\n",
      "1587/1587 [==============================] - 1s 392us/sample - loss: 0.6148 - accuracy: 0.6711\n",
      "Epoch 5/100\n",
      "1587/1587 [==============================] - 1s 391us/sample - loss: 0.6124 - accuracy: 0.6698\n",
      "Epoch 6/100\n",
      "1587/1587 [==============================] - 1s 412us/sample - loss: 0.6133 - accuracy: 0.6730\n",
      "Epoch 7/100\n",
      "1587/1587 [==============================] - 1s 433us/sample - loss: 0.6112 - accuracy: 0.6793\n",
      "Epoch 8/100\n",
      "1587/1587 [==============================] - 1s 430us/sample - loss: 0.6104 - accuracy: 0.6686\n",
      "Epoch 9/100\n",
      "1587/1587 [==============================] - 1s 454us/sample - loss: 0.6067 - accuracy: 0.6774\n",
      "Epoch 10/100\n",
      "1587/1587 [==============================] - 1s 404us/sample - loss: 0.6111 - accuracy: 0.6641\n",
      "Epoch 11/100\n",
      "1587/1587 [==============================] - 1s 397us/sample - loss: 0.6051 - accuracy: 0.6900\n",
      "Epoch 12/100\n",
      "1587/1587 [==============================] - 1s 464us/sample - loss: 0.6071 - accuracy: 0.6749\n",
      "Epoch 13/100\n",
      "1587/1587 [==============================] - 1s 400us/sample - loss: 0.6015 - accuracy: 0.6805\n",
      "Epoch 14/100\n",
      "1587/1587 [==============================] - 1s 372us/sample - loss: 0.6032 - accuracy: 0.6774\n",
      "Epoch 15/100\n",
      "1587/1587 [==============================] - 1s 477us/sample - loss: 0.6021 - accuracy: 0.6875\n",
      "Epoch 16/100\n",
      "1587/1587 [==============================] - 1s 445us/sample - loss: 0.6027 - accuracy: 0.6786\n",
      "Epoch 17/100\n",
      "1587/1587 [==============================] - 1s 386us/sample - loss: 0.6006 - accuracy: 0.6875\n",
      "Epoch 18/100\n",
      "1587/1587 [==============================] - 1s 462us/sample - loss: 0.5971 - accuracy: 0.6887\n",
      "Epoch 19/100\n",
      "1587/1587 [==============================] - 1s 497us/sample - loss: 0.5981 - accuracy: 0.6856\n",
      "Epoch 20/100\n",
      "1587/1587 [==============================] - 1s 428us/sample - loss: 0.5991 - accuracy: 0.6824\n",
      "Epoch 21/100\n",
      "1587/1587 [==============================] - 1s 510us/sample - loss: 0.5945 - accuracy: 0.6881\n",
      "Epoch 22/100\n",
      "1587/1587 [==============================] - 1s 506us/sample - loss: 0.5963 - accuracy: 0.6975\n",
      "Epoch 23/100\n",
      "1587/1587 [==============================] - 1s 526us/sample - loss: 0.5968 - accuracy: 0.6887\n",
      "Epoch 24/100\n",
      "1587/1587 [==============================] - 1s 519us/sample - loss: 0.5943 - accuracy: 0.6881\n",
      "Epoch 25/100\n",
      "1587/1587 [==============================] - 1s 491us/sample - loss: 0.5927 - accuracy: 0.6950\n",
      "Epoch 26/100\n",
      "1587/1587 [==============================] - 1s 401us/sample - loss: 0.5968 - accuracy: 0.6875\n",
      "Epoch 27/100\n",
      "1587/1587 [==============================] - 1s 392us/sample - loss: 0.5925 - accuracy: 0.6900\n",
      "Epoch 28/100\n",
      "1587/1587 [==============================] - 1s 406us/sample - loss: 0.5925 - accuracy: 0.6875\n",
      "Epoch 29/100\n",
      "1587/1587 [==============================] - 1s 481us/sample - loss: 0.5921 - accuracy: 0.6957\n",
      "Epoch 30/100\n",
      "1587/1587 [==============================] - 1s 433us/sample - loss: 0.5905 - accuracy: 0.6994\n",
      "Epoch 31/100\n",
      "1587/1587 [==============================] - 1s 461us/sample - loss: 0.5903 - accuracy: 0.6963\n",
      "Epoch 32/100\n",
      "1587/1587 [==============================] - 1s 492us/sample - loss: 0.5878 - accuracy: 0.7001\n",
      "Epoch 33/100\n",
      "1587/1587 [==============================] - 1s 433us/sample - loss: 0.5852 - accuracy: 0.7007\n",
      "Epoch 34/100\n",
      "1587/1587 [==============================] - 1s 447us/sample - loss: 0.5881 - accuracy: 0.6881\n",
      "Epoch 35/100\n",
      "1587/1587 [==============================] - 1s 455us/sample - loss: 0.5871 - accuracy: 0.6994\n",
      "Epoch 36/100\n",
      "1587/1587 [==============================] - 1s 431us/sample - loss: 0.5860 - accuracy: 0.6906\n",
      "Epoch 37/100\n",
      "1587/1587 [==============================] - 1s 454us/sample - loss: 0.5887 - accuracy: 0.6944\n",
      "Epoch 38/100\n",
      "1587/1587 [==============================] - 1s 440us/sample - loss: 0.5829 - accuracy: 0.7020\n",
      "Epoch 39/100\n",
      "1587/1587 [==============================] - 1s 468us/sample - loss: 0.5815 - accuracy: 0.6957\n",
      "Epoch 40/100\n",
      "1587/1587 [==============================] - 1s 549us/sample - loss: 0.5877 - accuracy: 0.7020\n",
      "Epoch 41/100\n",
      "1587/1587 [==============================] - 1s 449us/sample - loss: 0.5868 - accuracy: 0.6931\n",
      "Epoch 42/100\n",
      "1587/1587 [==============================] - 1s 450us/sample - loss: 0.5827 - accuracy: 0.6975\n",
      "Epoch 43/100\n",
      "1587/1587 [==============================] - 1s 508us/sample - loss: 0.5803 - accuracy: 0.7095\n",
      "Epoch 44/100\n",
      "1587/1587 [==============================] - 1s 441us/sample - loss: 0.5779 - accuracy: 0.7045\n",
      "Epoch 45/100\n",
      "1587/1587 [==============================] - 1s 423us/sample - loss: 0.5803 - accuracy: 0.7057\n",
      "Epoch 46/100\n",
      "1587/1587 [==============================] - 1s 495us/sample - loss: 0.5761 - accuracy: 0.7070\n",
      "Epoch 47/100\n",
      "1587/1587 [==============================] - 1s 476us/sample - loss: 0.5790 - accuracy: 0.7026\n",
      "Epoch 48/100\n",
      "1587/1587 [==============================] - 1s 504us/sample - loss: 0.5778 - accuracy: 0.6957\n",
      "Epoch 49/100\n",
      "1587/1587 [==============================] - 1s 500us/sample - loss: 0.5764 - accuracy: 0.7032\n",
      "Epoch 50/100\n",
      "1587/1587 [==============================] - 1s 507us/sample - loss: 0.5694 - accuracy: 0.7038\n",
      "Epoch 51/100\n",
      "1587/1587 [==============================] - 1s 464us/sample - loss: 0.5691 - accuracy: 0.7064\n",
      "Epoch 52/100\n",
      "1587/1587 [==============================] - 1s 454us/sample - loss: 0.5780 - accuracy: 0.6944\n",
      "Epoch 53/100\n",
      "1587/1587 [==============================] - 1s 425us/sample - loss: 0.5729 - accuracy: 0.7020\n",
      "Epoch 54/100\n",
      "1587/1587 [==============================] - 1s 391us/sample - loss: 0.5699 - accuracy: 0.7070\n",
      "Epoch 55/100\n",
      "1587/1587 [==============================] - 1s 419us/sample - loss: 0.5664 - accuracy: 0.7158\n",
      "Epoch 56/100\n",
      "1587/1587 [==============================] - 1s 424us/sample - loss: 0.5627 - accuracy: 0.7164\n",
      "Epoch 57/100\n",
      "1587/1587 [==============================] - 1s 371us/sample - loss: 0.5619 - accuracy: 0.7152\n",
      "Epoch 58/100\n",
      "1587/1587 [==============================] - 1s 393us/sample - loss: 0.5696 - accuracy: 0.7177\n",
      "Epoch 59/100\n",
      "1587/1587 [==============================] - 1s 394us/sample - loss: 0.5617 - accuracy: 0.7095\n",
      "Epoch 60/100\n",
      "1587/1587 [==============================] - 1s 392us/sample - loss: 0.5592 - accuracy: 0.7108\n",
      "Epoch 61/100\n",
      "1587/1587 [==============================] - 1s 391us/sample - loss: 0.5615 - accuracy: 0.7101\n",
      "Epoch 62/100\n",
      "1587/1587 [==============================] - 1s 426us/sample - loss: 0.5598 - accuracy: 0.7196\n",
      "Epoch 63/100\n",
      "1587/1587 [==============================] - 1s 427us/sample - loss: 0.5613 - accuracy: 0.7083\n",
      "Epoch 64/100\n",
      "1587/1587 [==============================] - 1s 386us/sample - loss: 0.5525 - accuracy: 0.7196\n",
      "Epoch 65/100\n",
      "1587/1587 [==============================] - 1s 396us/sample - loss: 0.5563 - accuracy: 0.7171\n",
      "Epoch 66/100\n",
      "1587/1587 [==============================] - 1s 504us/sample - loss: 0.5526 - accuracy: 0.7127\n",
      "Epoch 67/100\n",
      "1587/1587 [==============================] - 1s 452us/sample - loss: 0.5518 - accuracy: 0.7177\n",
      "Epoch 68/100\n",
      "1587/1587 [==============================] - 1s 521us/sample - loss: 0.5521 - accuracy: 0.7164\n",
      "Epoch 69/100\n",
      "1587/1587 [==============================] - 1s 650us/sample - loss: 0.5510 - accuracy: 0.7202\n",
      "Epoch 70/100\n",
      "1587/1587 [==============================] - 1s 500us/sample - loss: 0.5561 - accuracy: 0.7177\n",
      "Epoch 71/100\n",
      "1587/1587 [==============================] - 1s 469us/sample - loss: 0.5508 - accuracy: 0.7190\n",
      "Epoch 72/100\n",
      "1587/1587 [==============================] - 1s 441us/sample - loss: 0.5569 - accuracy: 0.7196\n",
      "Epoch 73/100\n",
      "1587/1587 [==============================] - 1s 447us/sample - loss: 0.5493 - accuracy: 0.7234\n",
      "Epoch 74/100\n",
      "1587/1587 [==============================] - 1s 507us/sample - loss: 0.5463 - accuracy: 0.7240\n",
      "Epoch 75/100\n",
      "1587/1587 [==============================] - 1s 483us/sample - loss: 0.5415 - accuracy: 0.7158\n",
      "Epoch 76/100\n"
     ]
    },
    {
     "name": "stdout",
     "output_type": "stream",
     "text": [
      "1587/1587 [==============================] - 1s 536us/sample - loss: 0.5450 - accuracy: 0.7215\n",
      "Epoch 77/100\n",
      "1587/1587 [==============================] - 1s 520us/sample - loss: 0.5438 - accuracy: 0.7133\n",
      "Epoch 78/100\n",
      "1587/1587 [==============================] - 1s 491us/sample - loss: 0.5475 - accuracy: 0.7246\n",
      "Epoch 79/100\n",
      "1587/1587 [==============================] - 1s 459us/sample - loss: 0.5399 - accuracy: 0.7253\n",
      "Epoch 80/100\n",
      "1587/1587 [==============================] - 1s 488us/sample - loss: 0.5359 - accuracy: 0.7259\n",
      "Epoch 81/100\n",
      "1587/1587 [==============================] - 1s 430us/sample - loss: 0.5458 - accuracy: 0.7146\n",
      "Epoch 82/100\n",
      "1587/1587 [==============================] - 1s 362us/sample - loss: 0.5401 - accuracy: 0.7190\n",
      "Epoch 83/100\n",
      "1587/1587 [==============================] - 1s 405us/sample - loss: 0.5326 - accuracy: 0.7265\n",
      "Epoch 84/100\n",
      "1587/1587 [==============================] - 1s 366us/sample - loss: 0.5309 - accuracy: 0.7290\n",
      "Epoch 85/100\n",
      "1587/1587 [==============================] - 1s 374us/sample - loss: 0.5393 - accuracy: 0.7227\n",
      "Epoch 86/100\n",
      "1587/1587 [==============================] - 1s 360us/sample - loss: 0.5347 - accuracy: 0.7240\n",
      "Epoch 87/100\n",
      "1587/1587 [==============================] - 1s 395us/sample - loss: 0.5318 - accuracy: 0.7284\n",
      "Epoch 88/100\n",
      "1587/1587 [==============================] - 1s 382us/sample - loss: 0.5321 - accuracy: 0.7335\n",
      "Epoch 89/100\n",
      "1587/1587 [==============================] - 1s 367us/sample - loss: 0.5307 - accuracy: 0.7335\n",
      "Epoch 90/100\n",
      "1587/1587 [==============================] - 1s 360us/sample - loss: 0.5338 - accuracy: 0.7347\n",
      "Epoch 91/100\n",
      "1587/1587 [==============================] - 1s 369us/sample - loss: 0.5348 - accuracy: 0.7265\n",
      "Epoch 92/100\n",
      "1587/1587 [==============================] - 1s 366us/sample - loss: 0.5248 - accuracy: 0.7278\n",
      "Epoch 93/100\n",
      "1587/1587 [==============================] - 1s 486us/sample - loss: 0.5310 - accuracy: 0.7303\n",
      "Epoch 94/100\n",
      "1587/1587 [==============================] - 1s 392us/sample - loss: 0.5203 - accuracy: 0.7360\n",
      "Epoch 95/100\n",
      "1587/1587 [==============================] - 1s 447us/sample - loss: 0.5240 - accuracy: 0.7398\n",
      "Epoch 96/100\n",
      "1587/1587 [==============================] - 1s 448us/sample - loss: 0.5251 - accuracy: 0.7372\n",
      "Epoch 97/100\n",
      "1587/1587 [==============================] - 1s 427us/sample - loss: 0.5182 - accuracy: 0.7278\n",
      "Epoch 98/100\n",
      "1587/1587 [==============================] - 1s 386us/sample - loss: 0.5201 - accuracy: 0.7341\n",
      "Epoch 99/100\n",
      "1587/1587 [==============================] - 1s 367us/sample - loss: 0.5221 - accuracy: 0.7297\n",
      "Epoch 100/100\n",
      "1587/1587 [==============================] - 1s 325us/sample - loss: 0.5273 - accuracy: 0.7391\n"
     ]
    },
    {
     "data": {
      "text/plain": [
       "<keras.callbacks.History at 0x1f152b84be0>"
      ]
     },
     "execution_count": 5,
     "metadata": {},
     "output_type": "execute_result"
    }
   ],
   "source": [
    "    import keras\n",
    "    from keras.models import Sequential\n",
    "    from keras.layers import Dense\n",
    "\n",
    "    classifier = Sequential()\n",
    "    classifier.add(Dense(1024, activation='relu', kernel_initializer='uniform',input_dim=24))\n",
    "    classifier.add(Dense(256, activation='relu', kernel_initializer='uniform'))\n",
    "    classifier.add(Dense(24, activation='relu', kernel_initializer='uniform'))\n",
    "    classifier.add(Dense(1, activation='sigmoid', kernel_initializer='uniform'))\n",
    "    classifier.compile(optimizer = 'adam', loss = 'binary_crossentropy', metrics = ['accuracy'])\n",
    "    classifier.fit(trainInput, trainOutput, batch_size = 10, epochs = 100,verbose=1 )"
   ]
  },
  {
   "cell_type": "code",
   "execution_count": 6,
   "id": "135ce34e",
   "metadata": {},
   "outputs": [],
   "source": [
    "y_pred = classifier.predict(testInput)\n",
    "y_pred = (y_pred > 0.50)"
   ]
  },
  {
   "cell_type": "code",
   "execution_count": 7,
   "id": "309d3dd5",
   "metadata": {},
   "outputs": [
    {
     "data": {
      "text/plain": [
       "<AxesSubplot:>"
      ]
     },
     "execution_count": 7,
     "metadata": {},
     "output_type": "execute_result"
    },
    {
     "data": {
      "image/png": "[encoded data removed]",
      "text/plain": [
       "<Figure size 800x500 with 2 Axes>"
      ]
     },
     "metadata": {},
     "output_type": "display_data"
    }
   ],
   "source": [
    "from sklearn.metrics import confusion_matrix, accuracy_score\n",
    "import seaborn as sns\n",
    "import matplotlib.pyplot as plt\n",
    "confusion_matrix_A = confusion_matrix(testOutput, y_pred)\n",
    "confusion_matrix_A\n",
    "plt.figure(figsize=(8,5))\n",
    "sns.heatmap(confusion_matrix_A,annot=True,fmt='g',cmap='BuPu')"
   ]
  },
  {
   "cell_type": "code",
   "execution_count": 8,
   "id": "89bec4a2",
   "metadata": {},
   "outputs": [
    {
     "data": {
      "text/plain": [
       "0.7359307359307359"
      ]
     },
     "execution_count": 8,
     "metadata": {},
     "output_type": "execute_result"
    }
   ],
   "source": [
    "accuracy_score(testOutput, y_pred)"
   ]
  },
  {
   "cell_type": "code",
   "execution_count": 9,
   "id": "8d0afdc4",
   "metadata": {},
   "outputs": [
    {
     "name": "stdout",
     "output_type": "stream",
     "text": [
      "predicted chance of survival is 77.083954 %\n"
     ]
    }
   ],
   "source": [
    "y1 = classifier.predict(testInput[10:11])\n",
    "y1 = y1*100\n",
    "print(\"predicted chance of survival is\",y1[0][0],\"%\")"
   ]
  },
  {
   "cell_type": "code",
   "execution_count": null,
   "id": "c578edb2",
   "metadata": {},
   "outputs": [],
   "source": []
  }
 ],
 "metadata": {
  "kernelspec": {
   "display_name": "Python 3 (ipykernel)",
   "language": "python",
   "name": "python3"
  },
  "language_info": {
   "codemirror_mode": {
    "name": "ipython",
    "version": 3
   },
   "file_extension": ".py",
   "mimetype": "text/x-python",
   "name": "python",
   "nbconvert_exporter": "python",
   "pygments_lexer": "ipython3",
   "version": "3.9.13"
  }
 },
 "nbformat": 4,
 "nbformat_minor": 5
}
