{
 "cells": [
  {
   "cell_type": "code",
   "execution_count": 14,
   "id": "23a8988a",
   "metadata": {},
   "outputs": [],
   "source": [
    "import numpy as np\n",
    "import tensorflow as tf\n",
    "from ipynb.fs.full.parse import Crawler\n",
    "import sys\n",
    "import numpy as np\n",
    "import pandas as pd\n",
    "import warnings\n",
    "warnings.filterwarnings(\"ignore\", category=UserWarning)\n",
    "\n",
    "TEST_SIZE = 231\n",
    "FEATURES = 24\n",
    "OUTPUTS = 1\n",
    "\n",
    "if __name__ == \"__main__\":\n",
    "    n_input = 24 # MNIST data input (img shape: 28*28)\n",
    "    n_treatments = 1 # MNIST total classes (0-9 digits)\n",
    "    tf.compat.v1.disable_eager_execution()\n",
    "    x = tf.compat.v1.placeholder(\"float\", [None, n_input])\n",
    "    y = tf.compat.v1.placeholder(\"float\", [None, n_treatments])"
   ]
  },
  {
   "cell_type": "code",
   "execution_count": 15,
   "id": "34bf399c",
   "metadata": {},
   "outputs": [],
   "source": [
    "    objCrawler = Crawler(\"FinalCancer_Data.csv\")\n",
    "    data = objCrawler.p_input()"
   ]
  },
  {
   "cell_type": "code",
   "execution_count": 16,
   "id": "39ea91eb",
   "metadata": {},
   "outputs": [],
   "source": [
    "    max0 = np.amax(data[:, np.r_[0]])\n",
    "    max1 = np.amax(data[:, np.r_[1]])\n",
    "    max5 = np.amax(data[:, np.r_[5]])\n",
    "    max6 = np.amax(data[:, np.r_[6]])\n",
    "    max7 = np.amax(data[:, np.r_[7]])\n",
    "    max8 = np.amax(data[:, np.r_[8]])\n",
    "    max9 = np.amax(data[:, np.r_[9]])\n",
    "    max10 = np.amax(data[:, np.r_[10]])\n",
    "    max11 = np.amax(data[:, np.r_[11]])\n",
    "\n",
    "    for dataElements in data:\n",
    "        dataElements[0] = dataElements[0]/max0\n",
    "        dataElements[1] = dataElements[1]/max1\n",
    "        dataElements[5] = dataElements[5]/max5\n",
    "        dataElements[6] = dataElements[6]/max6\n",
    "        dataElements[7] = dataElements[7]/max7\n",
    "        dataElements[8] = dataElements[8]/max8\n",
    "        dataElements[9] = dataElements[9]/max9\n",
    "        dataElements[10] = dataElements[10]/max10\n",
    "        dataElements[11] = dataElements[11]/max11"
   ]
  },
  {
   "cell_type": "code",
   "execution_count": 17,
   "id": "fd6257f3",
   "metadata": {},
   "outputs": [],
   "source": [
    "    testInput = data[:TEST_SIZE,:FEATURES]\n",
    "    testOutput = data[:TEST_SIZE, -OUTPUTS:]\n",
    "\n",
    "    trainInput = data[TEST_SIZE:, :FEATURES]\n",
    "    trainOutput = data[TEST_SIZE:, -OUTPUTS:]\n",
    "\n",
    "    train_size = len(trainInput)"
   ]
  },
  {
   "cell_type": "code",
   "execution_count": 18,
   "id": "c3a4c5de",
   "metadata": {},
   "outputs": [
    {
     "name": "stdout",
     "output_type": "stream",
     "text": [
      "Train on 1587 samples\n",
      "Epoch 1/100\n",
      "1587/1587 [==============================] - 1s 487us/sample - loss: 0.6388 - accuracy: 0.6660\n",
      "Epoch 2/100\n",
      "1587/1587 [==============================] - 1s 463us/sample - loss: 0.6170 - accuracy: 0.6660\n",
      "Epoch 3/100\n",
      "1587/1587 [==============================] - 1s 464us/sample - loss: 0.6175 - accuracy: 0.6660\n",
      "Epoch 4/100\n",
      "1587/1587 [==============================] - 1s 450us/sample - loss: 0.6114 - accuracy: 0.6660\n",
      "Epoch 5/100\n",
      "1587/1587 [==============================] - 1s 445us/sample - loss: 0.6119 - accuracy: 0.6660\n",
      "Epoch 6/100\n",
      "1587/1587 [==============================] - 1s 422us/sample - loss: 0.6098 - accuracy: 0.6660\n",
      "Epoch 7/100\n",
      "1587/1587 [==============================] - 1s 409us/sample - loss: 0.6086 - accuracy: 0.6660\n",
      "Epoch 8/100\n",
      "1587/1587 [==============================] - 1s 471us/sample - loss: 0.6078 - accuracy: 0.6660\n",
      "Epoch 9/100\n",
      "1587/1587 [==============================] - 1s 411us/sample - loss: 0.6048 - accuracy: 0.6660\n",
      "Epoch 10/100\n",
      "1587/1587 [==============================] - 1s 438us/sample - loss: 0.6030 - accuracy: 0.6736\n",
      "Epoch 11/100\n",
      "1587/1587 [==============================] - 1s 431us/sample - loss: 0.6005 - accuracy: 0.6774\n",
      "Epoch 12/100\n",
      "1587/1587 [==============================] - 1s 425us/sample - loss: 0.6000 - accuracy: 0.6786\n",
      "Epoch 13/100\n",
      "1587/1587 [==============================] - 1s 418us/sample - loss: 0.5978 - accuracy: 0.6887\n",
      "Epoch 14/100\n",
      "1587/1587 [==============================] - 1s 424us/sample - loss: 0.5958 - accuracy: 0.6849\n",
      "Epoch 15/100\n",
      "1587/1587 [==============================] - 1s 460us/sample - loss: 0.5976 - accuracy: 0.6906\n",
      "Epoch 16/100\n",
      "1587/1587 [==============================] - 1s 454us/sample - loss: 0.5989 - accuracy: 0.6975\n",
      "Epoch 17/100\n",
      "1587/1587 [==============================] - 1s 438us/sample - loss: 0.5952 - accuracy: 0.6805\n",
      "Epoch 18/100\n",
      "1587/1587 [==============================] - 1s 434us/sample - loss: 0.5929 - accuracy: 0.6931\n",
      "Epoch 19/100\n",
      "1587/1587 [==============================] - 1s 441us/sample - loss: 0.5916 - accuracy: 0.6944\n",
      "Epoch 20/100\n",
      "1587/1587 [==============================] - 1s 438us/sample - loss: 0.5912 - accuracy: 0.6950\n",
      "Epoch 21/100\n",
      "1587/1587 [==============================] - 1s 452us/sample - loss: 0.5867 - accuracy: 0.7020\n",
      "Epoch 22/100\n",
      "1587/1587 [==============================] - 1s 448us/sample - loss: 0.5921 - accuracy: 0.6975\n",
      "Epoch 23/100\n",
      "1587/1587 [==============================] - 1s 401us/sample - loss: 0.5886 - accuracy: 0.6950\n",
      "Epoch 24/100\n",
      "1587/1587 [==============================] - 1s 459us/sample - loss: 0.5864 - accuracy: 0.6982\n",
      "Epoch 25/100\n",
      "1587/1587 [==============================] - 1s 449us/sample - loss: 0.5855 - accuracy: 0.6982\n",
      "Epoch 26/100\n",
      "1587/1587 [==============================] - 1s 414us/sample - loss: 0.5831 - accuracy: 0.7020\n",
      "Epoch 27/100\n",
      "1587/1587 [==============================] - 1s 402us/sample - loss: 0.5847 - accuracy: 0.7045\n",
      "Epoch 28/100\n",
      "1587/1587 [==============================] - 1s 458us/sample - loss: 0.5838 - accuracy: 0.7032\n",
      "Epoch 29/100\n",
      "1587/1587 [==============================] - 1s 420us/sample - loss: 0.5819 - accuracy: 0.7051\n",
      "Epoch 30/100\n",
      "1587/1587 [==============================] - 1s 402us/sample - loss: 0.5852 - accuracy: 0.7026\n",
      "Epoch 31/100\n",
      "1587/1587 [==============================] - 1s 426us/sample - loss: 0.5809 - accuracy: 0.7057\n",
      "Epoch 32/100\n",
      "1587/1587 [==============================] - 1s 397us/sample - loss: 0.5808 - accuracy: 0.7057\n",
      "Epoch 33/100\n",
      "1587/1587 [==============================] - 1s 404us/sample - loss: 0.5779 - accuracy: 0.7114\n",
      "Epoch 34/100\n",
      "1587/1587 [==============================] - 1s 428us/sample - loss: 0.5772 - accuracy: 0.7114\n",
      "Epoch 35/100\n",
      "1587/1587 [==============================] - 1s 408us/sample - loss: 0.5838 - accuracy: 0.7007\n",
      "Epoch 36/100\n",
      "1587/1587 [==============================] - 1s 408us/sample - loss: 0.5778 - accuracy: 0.7032\n",
      "Epoch 37/100\n",
      "1587/1587 [==============================] - 1s 409us/sample - loss: 0.5763 - accuracy: 0.7114\n",
      "Epoch 38/100\n",
      "1587/1587 [==============================] - 1s 419us/sample - loss: 0.5761 - accuracy: 0.7146\n",
      "Epoch 39/100\n",
      "1587/1587 [==============================] - 1s 448us/sample - loss: 0.5717 - accuracy: 0.7146\n",
      "Epoch 40/100\n",
      "1587/1587 [==============================] - 1s 397us/sample - loss: 0.5717 - accuracy: 0.7177\n",
      "Epoch 41/100\n",
      "1587/1587 [==============================] - 1s 426us/sample - loss: 0.5784 - accuracy: 0.7089\n",
      "Epoch 42/100\n",
      "1587/1587 [==============================] - 1s 448us/sample - loss: 0.5782 - accuracy: 0.7076\n",
      "Epoch 43/100\n",
      "1587/1587 [==============================] - 1s 443us/sample - loss: 0.5689 - accuracy: 0.7139\n",
      "Epoch 44/100\n",
      "1587/1587 [==============================] - 1s 443us/sample - loss: 0.5728 - accuracy: 0.7190\n",
      "Epoch 45/100\n",
      "1587/1587 [==============================] - 1s 435us/sample - loss: 0.5647 - accuracy: 0.7196\n",
      "Epoch 46/100\n",
      "1587/1587 [==============================] - 1s 414us/sample - loss: 0.5716 - accuracy: 0.7158\n",
      "Epoch 47/100\n",
      "1587/1587 [==============================] - 1s 427us/sample - loss: 0.5702 - accuracy: 0.7120\n",
      "Epoch 48/100\n",
      "1587/1587 [==============================] - 1s 422us/sample - loss: 0.5684 - accuracy: 0.7158\n",
      "Epoch 49/100\n",
      "1587/1587 [==============================] - 1s 440us/sample - loss: 0.5653 - accuracy: 0.7202\n",
      "Epoch 50/100\n",
      "1587/1587 [==============================] - 1s 421us/sample - loss: 0.5606 - accuracy: 0.7209\n",
      "Epoch 51/100\n",
      "1587/1587 [==============================] - 1s 413us/sample - loss: 0.5631 - accuracy: 0.7164\n",
      "Epoch 52/100\n",
      "1587/1587 [==============================] - 1s 428us/sample - loss: 0.5618 - accuracy: 0.7234\n",
      "Epoch 53/100\n",
      "1587/1587 [==============================] - 1s 404us/sample - loss: 0.5612 - accuracy: 0.7202\n",
      "Epoch 54/100\n",
      "1587/1587 [==============================] - 1s 386us/sample - loss: 0.5638 - accuracy: 0.7146\n",
      "Epoch 55/100\n",
      "1587/1587 [==============================] - 1s 404us/sample - loss: 0.5576 - accuracy: 0.7240\n",
      "Epoch 56/100\n",
      "1587/1587 [==============================] - 1s 417us/sample - loss: 0.5544 - accuracy: 0.7272\n",
      "Epoch 57/100\n",
      "1587/1587 [==============================] - 1s 380us/sample - loss: 0.5590 - accuracy: 0.7284\n",
      "Epoch 58/100\n",
      "1587/1587 [==============================] - 1s 392us/sample - loss: 0.5547 - accuracy: 0.7209\n",
      "Epoch 59/100\n",
      "1587/1587 [==============================] - 1s 392us/sample - loss: 0.5556 - accuracy: 0.7284\n",
      "Epoch 60/100\n",
      "1587/1587 [==============================] - 1s 423us/sample - loss: 0.5576 - accuracy: 0.7190\n",
      "Epoch 61/100\n",
      "1587/1587 [==============================] - 1s 399us/sample - loss: 0.5629 - accuracy: 0.7202\n",
      "Epoch 62/100\n",
      "1587/1587 [==============================] - 1s 425us/sample - loss: 0.5518 - accuracy: 0.7278\n",
      "Epoch 63/100\n",
      "1587/1587 [==============================] - 1s 380us/sample - loss: 0.5507 - accuracy: 0.7272\n",
      "Epoch 64/100\n",
      "1587/1587 [==============================] - 1s 408us/sample - loss: 0.5515 - accuracy: 0.7209\n",
      "Epoch 65/100\n",
      "1587/1587 [==============================] - 1s 395us/sample - loss: 0.5485 - accuracy: 0.7309\n",
      "Epoch 66/100\n",
      "1587/1587 [==============================] - 1s 408us/sample - loss: 0.5526 - accuracy: 0.7240\n",
      "Epoch 67/100\n",
      "1587/1587 [==============================] - 1s 401us/sample - loss: 0.5467 - accuracy: 0.7259\n",
      "Epoch 68/100\n",
      "1587/1587 [==============================] - 1s 387us/sample - loss: 0.5486 - accuracy: 0.7272\n",
      "Epoch 69/100\n",
      "1587/1587 [==============================] - 1s 402us/sample - loss: 0.5476 - accuracy: 0.7335\n",
      "Epoch 70/100\n",
      "1587/1587 [==============================] - 1s 400us/sample - loss: 0.5392 - accuracy: 0.7322\n",
      "Epoch 71/100\n",
      "1587/1587 [==============================] - 1s 413us/sample - loss: 0.5414 - accuracy: 0.7328\n",
      "Epoch 72/100\n",
      "1587/1587 [==============================] - 1s 417us/sample - loss: 0.5380 - accuracy: 0.7347\n",
      "Epoch 73/100\n",
      "1587/1587 [==============================] - 1s 391us/sample - loss: 0.5407 - accuracy: 0.7328\n",
      "Epoch 74/100\n",
      "1587/1587 [==============================] - 1s 404us/sample - loss: 0.5574 - accuracy: 0.7171\n",
      "Epoch 75/100\n",
      "1587/1587 [==============================] - 1s 415us/sample - loss: 0.5379 - accuracy: 0.7347\n",
      "Epoch 76/100\n"
     ]
    },
    {
     "name": "stdout",
     "output_type": "stream",
     "text": [
      "1587/1587 [==============================] - 1s 409us/sample - loss: 0.5360 - accuracy: 0.7297\n",
      "Epoch 77/100\n",
      "1587/1587 [==============================] - 1s 420us/sample - loss: 0.5381 - accuracy: 0.7360\n",
      "Epoch 78/100\n",
      "1587/1587 [==============================] - 1s 400us/sample - loss: 0.5329 - accuracy: 0.7322\n",
      "Epoch 79/100\n",
      "1587/1587 [==============================] - 1s 460us/sample - loss: 0.5423 - accuracy: 0.7265\n",
      "Epoch 80/100\n",
      "1587/1587 [==============================] - 1s 378us/sample - loss: 0.5339 - accuracy: 0.7297\n",
      "Epoch 81/100\n",
      "1587/1587 [==============================] - 1s 383us/sample - loss: 0.5308 - accuracy: 0.7290\n",
      "Epoch 82/100\n",
      "1587/1587 [==============================] - 1s 382us/sample - loss: 0.5332 - accuracy: 0.7360\n",
      "Epoch 83/100\n",
      "1587/1587 [==============================] - 1s 329us/sample - loss: 0.5311 - accuracy: 0.7385\n",
      "Epoch 84/100\n",
      "1587/1587 [==============================] - 1s 409us/sample - loss: 0.5278 - accuracy: 0.7372\n",
      "Epoch 85/100\n",
      "1587/1587 [==============================] - 1s 399us/sample - loss: 0.5286 - accuracy: 0.7366\n",
      "Epoch 86/100\n",
      "1587/1587 [==============================] - 1s 377us/sample - loss: 0.5263 - accuracy: 0.7404\n",
      "Epoch 87/100\n",
      "1587/1587 [==============================] - 1s 392us/sample - loss: 0.5272 - accuracy: 0.7360\n",
      "Epoch 88/100\n",
      "1587/1587 [==============================] - 1s 371us/sample - loss: 0.5278 - accuracy: 0.7379\n",
      "Epoch 89/100\n",
      "1587/1587 [==============================] - 1s 361us/sample - loss: 0.5175 - accuracy: 0.7398\n",
      "Epoch 90/100\n",
      "1587/1587 [==============================] - 1s 374us/sample - loss: 0.5214 - accuracy: 0.7404\n",
      "Epoch 91/100\n",
      "1587/1587 [==============================] - 1s 368us/sample - loss: 0.5235 - accuracy: 0.7366\n",
      "Epoch 92/100\n",
      "1587/1587 [==============================] - 1s 385us/sample - loss: 0.5196 - accuracy: 0.7385\n",
      "Epoch 93/100\n",
      "1587/1587 [==============================] - 1s 382us/sample - loss: 0.5173 - accuracy: 0.7435\n",
      "Epoch 94/100\n",
      "1587/1587 [==============================] - 1s 333us/sample - loss: 0.5174 - accuracy: 0.7366\n",
      "Epoch 95/100\n",
      "1587/1587 [==============================] - 1s 348us/sample - loss: 0.5205 - accuracy: 0.7417\n",
      "Epoch 96/100\n",
      "1587/1587 [==============================] - 1s 386us/sample - loss: 0.5187 - accuracy: 0.7385\n",
      "Epoch 97/100\n",
      "1587/1587 [==============================] - 1s 363us/sample - loss: 0.5136 - accuracy: 0.7448\n",
      "Epoch 98/100\n",
      "1587/1587 [==============================] - 1s 356us/sample - loss: 0.5180 - accuracy: 0.7417\n",
      "Epoch 99/100\n",
      "1587/1587 [==============================] - 1s 369us/sample - loss: 0.5151 - accuracy: 0.7429\n",
      "Epoch 100/100\n",
      "1587/1587 [==============================] - 1s 351us/sample - loss: 0.5164 - accuracy: 0.7385\n"
     ]
    },
    {
     "data": {
      "text/plain": [
       "<keras.callbacks.History at 0x1d93afeeb50>"
      ]
     },
     "execution_count": 18,
     "metadata": {},
     "output_type": "execute_result"
    }
   ],
   "source": [
    "    import keras\n",
    "    from keras.models import Sequential\n",
    "    from keras.layers import Dense\n",
    "\n",
    "    classifier = Sequential()\n",
    "    classifier.add(Dense(1024, activation='relu', kernel_initializer='uniform',input_dim=24))\n",
    "    classifier.add(Dense(256, activation='relu', kernel_initializer='uniform'))\n",
    "    classifier.add(Dense(24, activation='relu', kernel_initializer='uniform'))\n",
    "    classifier.add(Dense(1, activation='sigmoid', kernel_initializer='uniform'))\n",
    "    classifier.compile(optimizer = 'adam', loss = 'binary_crossentropy', metrics = ['accuracy'])\n",
    "    classifier.fit(trainInput, trainOutput, batch_size = 10, epochs = 100,verbose=1 )"
   ]
  },
  {
   "cell_type": "code",
   "execution_count": 19,
   "id": "135ce34e",
   "metadata": {},
   "outputs": [],
   "source": [
    "y_pred = classifier.predict(testInput)\n",
    "y_pred = (y_pred > 0.50)"
   ]
  },
  {
   "cell_type": "code",
   "execution_count": 20,
   "id": "309d3dd5",
   "metadata": {},
   "outputs": [
    {
     "data": {
      "text/plain": [
       "<AxesSubplot:>"
      ]
     },
     "execution_count": 20,
     "metadata": {},
     "output_type": "execute_result"
    },
    {
     "data": {
      "image/png": "[encoded data removed]",
      "text/plain": [
       "<Figure size 576x360 with 2 Axes>"
      ]
     },
     "metadata": {
      "needs_background": "light"
     },
     "output_type": "display_data"
    }
   ],
   "source": [
    "from sklearn.metrics import confusion_matrix, accuracy_score\n",
    "import seaborn as sns\n",
    "import matplotlib.pyplot as plt\n",
    "confusion_matrix_A = confusion_matrix(testOutput, y_pred)\n",
    "confusion_matrix_A\n",
    "plt.figure(figsize=(8,5))\n",
    "sns.heatmap(confusion_matrix_A,annot=True,fmt='g',cmap='BuPu')"
   ]
  },
  {
   "cell_type": "code",
   "execution_count": 21,
   "id": "89bec4a2",
   "metadata": {},
   "outputs": [
    {
     "data": {
      "text/plain": [
       "0.658008658008658"
      ]
     },
     "execution_count": 21,
     "metadata": {},
     "output_type": "execute_result"
    }
   ],
   "source": [
    "accuracy_score(testOutput, y_pred)"
   ]
  },
  {
   "cell_type": "code",
   "execution_count": 22,
   "id": "8d0afdc4",
   "metadata": {},
   "outputs": [
    {
     "name": "stdout",
     "output_type": "stream",
     "text": [
      "predicted chance of survival is 94.38214 %\n"
     ]
    }
   ],
   "source": [
    "y1 = classifier.predict(testInput[10:11])\n",
    "y1 = y1*100\n",
    "print(\"predicted chance of survival is\",y1[0][0],\"%\")"
   ]
  },
  {
   "cell_type": "code",
   "execution_count": null,
   "id": "c578edb2",
   "metadata": {},
   "outputs": [],
   "source": []
  }
 ],
 "metadata": {
  "kernelspec": {
   "display_name": "Python 3 (ipykernel)",
   "language": "python",
   "name": "python3"
  },
  "language_info": {
   "codemirror_mode": {
    "name": "ipython",
    "version": 3
   },
   "file_extension": ".py",
   "mimetype": "text/x-python",
   "name": "python",
   "nbconvert_exporter": "python",
   "pygments_lexer": "ipython3",
   "version": "3.9.13"
  }
 },
 "nbformat": 4,
 "nbformat_minor": 5
}
